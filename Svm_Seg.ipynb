{
 "cells": [
  {
   "cell_type": "code",
   "execution_count": null,
   "metadata": {},
   "outputs": [],
   "source": [
    "import numpy as np\n",
    "from skimage import io\n",
    "from sklearn.svm import SVC"
   ]
  },
  {
   "cell_type": "code",
   "execution_count": null,
   "metadata": {},
   "outputs": [],
   "source": [
    "img = io.imread('Images/test.jpg')"
   ]
  },
  {
   "cell_type": "code",
   "execution_count": null,
   "metadata": {},
   "outputs": [],
   "source": [
    "io.imshow(img)"
   ]
  },
  {
   "cell_type": "code",
   "execution_count": null,
   "metadata": {},
   "outputs": [],
   "source": [
    "## test 1:\n",
    "classes = {'arbres': 0, 'vegetation': 1, 'sable': 2}\n",
    "\n",
    "## test 2: \n",
    "## classes = {'terre fetilisé': 0, 'végétation': 1, 'terre rocheuse': 2}"
   ]
  },
  {
   "cell_type": "code",
   "execution_count": null,
   "metadata": {},
   "outputs": [],
   "source": [
    "rows, cols, bands = img.shape\n",
    "n_classes = len(classes)\n",
    "palette = np.uint8([[255, 0, 0], [0, 255, 0], [0, 0, 255]])"
   ]
  },
  {
   "cell_type": "code",
   "execution_count": null,
   "metadata": {},
   "outputs": [],
   "source": [
    "X = img.reshape(rows*cols, bands)"
   ]
  },
  {
   "cell_type": "code",
   "execution_count": null,
   "metadata": {},
   "outputs": [],
   "source": [
    "svm_seg = n_classes*np.ones(shape=(rows, cols), dtype=np.int)"
   ]
  },
  {
   "cell_type": "code",
   "execution_count": null,
   "metadata": {},
   "outputs": [],
   "source": [
    "## test 1:\n",
    "\n",
    "svm_seg[180:200, 0:20] = classes['arbres']\n",
    "svm_seg[0:20, 400:420] = classes['vegetation']\n",
    "svm_seg[400:420, 380:400] = classes['sable']\n",
    "\n",
    "## test 2:\n",
    "'''\n",
    "svm_seg[100:120, 380:400] = classes['terre fetilisé']\n",
    "svm_seg[130:150, 290:310] = classes['végétation']\n",
    "svm_seg[80:100, 40:60] = classes['terre rocheuse']\n",
    "'''"
   ]
  },
  {
   "cell_type": "code",
   "execution_count": null,
   "metadata": {},
   "outputs": [],
   "source": [
    "y = svm_seg.ravel()\n",
    "train = np.flatnonzero(svm_seg < n_classes)\n",
    "test = np.flatnonzero(svm_seg == n_classes)"
   ]
  },
  {
   "cell_type": "code",
   "execution_count": null,
   "metadata": {},
   "outputs": [],
   "source": [
    "clf = SVC(gamma='auto')\n",
    "clf.fit(X[train], y[train])\n",
    "y[test] = clf.predict(X[test])\n",
    "svm_seg = y.reshape(rows, cols)"
   ]
  },
  {
   "cell_type": "code",
   "execution_count": null,
   "metadata": {},
   "outputs": [],
   "source": [
    "io.imshow(palette[svm_seg])"
   ]
  },
  {
   "cell_type": "code",
   "execution_count": null,
   "metadata": {},
   "outputs": [],
   "source": [
    "'''\n",
    "from sklearn.cluster import KMeans\n",
    "\n",
    "kmeans = KMeans(n_clusters=n_classes, random_state=3).fit(X)\n",
    "unsupervised = kmeans.labels_.reshape(rows, cols)\n",
    "\n",
    "io.imshow(palette[unsupervised])\n",
    "'''"
   ]
  }
 ],
 "metadata": {
  "kernelspec": {
   "display_name": "Python 3",
   "language": "python",
   "name": "python3"
  },
  "language_info": {
   "codemirror_mode": {
    "name": "ipython",
    "version": 3
   },
   "file_extension": ".py",
   "mimetype": "text/x-python",
   "name": "python",
   "nbconvert_exporter": "python",
   "pygments_lexer": "ipython3",
   "version": "3.8.2"
  }
 },
 "nbformat": 4,
 "nbformat_minor": 4
}
